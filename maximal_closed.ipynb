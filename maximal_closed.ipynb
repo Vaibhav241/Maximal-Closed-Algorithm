{
 "cells": [
  {
   "cell_type": "code",
   "execution_count": 1,
   "metadata": {},
   "outputs": [],
   "source": [
    "def candidate(Set, leng):\n",
    "    canditate = []\n",
    "    index = 0\n",
    "    for i in range (0,leng):\n",
    "        element = str(Set[i])\n",
    "        for j in range (i+1,leng):\n",
    "            element1 = str(Set[j])\n",
    "            if (element[0:(len(element)-1)] == element1[0:(len(element1)-1)]):\n",
    "                    union = element[0:(len(element)-1)]+element1[len(element1)-1]+element[len(element)-1]  \n",
    "                    union = ''.join(sorted(union))  \n",
    "                    canditate.append(union)\n",
    "    return canditate\n",
    "\n",
    "def frequent(Ck,MinSupport):\n",
    "    L = []\n",
    "    for i in Ck:\n",
    "        if Ck[i] >= minsupport:\n",
    "            L.append(i)\n",
    "    return sorted(L)\n",
    "\n",
    "def frequency(Canditate,leng):\n",
    "    Lk = dict()\n",
    "    file = open('C:\\\\Users\\\\User\\\\Data Mining\\\\Closed Maximal\\maximal_closed_data.csv')\n",
    "    for l in file:\n",
    "        l = str(l.split())\n",
    "        count = 0\n",
    "        for i in range (0,leng):\n",
    "            key = str(Canditate[i])\n",
    "            if key not in Lk:\n",
    "                Lk[key] = 0\n",
    "            flag = True\n",
    "            for k in key:\n",
    "                if k not in l:\n",
    "                    flag = False\n",
    "            if flag:\n",
    "                Lk[key] += 1\n",
    "    file.close()\n",
    "    return Lk\n",
    "\n",
    "def frequency_with_frequent_item(Ck,Lk,leng_Lk):\n",
    "    Mk=dict()\n",
    "    for i in range(0,leng_Lk):\n",
    "        key=str(Lk[i])\n",
    "        if key not in Mk:\n",
    "            Mk[key]=Ck[key]\n",
    "    return Mk"
   ]
  },
  {
   "cell_type": "code",
   "execution_count": 6,
   "metadata": {},
   "outputs": [
    {
     "name": "stdout",
     "output_type": "stream",
     "text": [
      "{'A': 4, 'B': 2, 'C': 5, 'E': 6, 'D': 4}\n",
      "Frequent 1 -itemset is {'A': 4, 'C': 5, 'D': 4, 'E': 6}\n",
      "Frequent 2 -itemset is {'AC': 3, 'AD': 3, 'AE': 4, 'CD': 3, 'CE': 5, 'DE': 4}\n",
      "candidate 3 -itemset is ['ACD', 'ACE', 'ADE', 'CDE']\n",
      "Frequent 3 -itemset is {'ACE': 3, 'ADE': 3, 'CDE': 3}\n",
      "candidate 4 -itemset is []\n"
     ]
    }
   ],
   "source": [
    "minsupport = 3\n",
    "C1={} \n",
    "file = open('C:\\\\Users\\\\User\\\\Data Mining\\\\Closed Maximal\\maximal_closed_data.csv')\n",
    "for line in file:\n",
    "    for item in line.split():\n",
    "        if item in C1:\n",
    "            C1[item] +=1\n",
    "        else:\n",
    "            C1[item] = 1\n",
    "file.close()\n",
    "sorted(C1.keys())\n",
    "\n",
    "print(C1)\n",
    "    \n",
    "L = []\n",
    "L1 = frequent(C1,minsupport)\n",
    "L = candidate(L1,len(L1))\n",
    "S1=frequency(L1,len(L1))\n",
    "\n",
    "print('Frequent 1 -itemset is',S1)\n",
    "D={}\n",
    "D[1]=S1\n",
    "s=frequent(C1,minsupport)\n",
    "k=2\n",
    "while L != []:\n",
    "    C = dict()\n",
    "    C = frequency(L,len(L))\n",
    "    frequent_itemset = []\n",
    "    frequent_itemset = frequent(C,minsupport)\n",
    "    S=frequency_with_frequent_item(C,frequent_itemset,len(frequent_itemset))\n",
    "    print ('Frequent',k,'-itemset is',S)\n",
    "    D[k]=S\n",
    "    L = candidate(frequent_itemset,len(frequent_itemset))\n",
    "    print ('candidate',k+1,'-itemset is',L)\n",
    "    k += 1\n",
    "    D[k+1]=[]\n",
    "    "
   ]
  },
  {
   "cell_type": "code",
   "execution_count": 36,
   "metadata": {},
   "outputs": [
    {
     "data": {
      "text/plain": [
       "{1: {'A': 4, 'C': 5, 'D': 4, 'E': 6},\n",
       " 2: {'AC': 3, 'AD': 3, 'AE': 4, 'CD': 3, 'CE': 5, 'DE': 4},\n",
       " 3: {'ACE': 3, 'ADE': 3, 'CDE': 3},\n",
       " 4: [],\n",
       " 5: []}"
      ]
     },
     "execution_count": 36,
     "metadata": {},
     "output_type": "execute_result"
    }
   ],
   "source": [
    "D"
   ]
  },
  {
   "cell_type": "code",
   "execution_count": 24,
   "metadata": {},
   "outputs": [],
   "source": [
    "MAX={}\n",
    "closed={}\n",
    "for i in D:\n",
    "    \n",
    "    \n",
    "    z=D[i]\n",
    "    MAX[i]=[]\n",
    "    closed[i]=[]\n",
    "    \n",
    "    for j in z:\n",
    "        c1=0\n",
    "        c2=0\n",
    "        cont=0\n",
    "        \n",
    "        q=D[i+1]\n",
    "        for k in q:\n",
    "            \n",
    "            for e in j:\n",
    "                if(e in k):\n",
    "                    cont=cont+1\n",
    "                    if (cont==i):\n",
    "                        \n",
    "                        c1=c1+1\n",
    "                        if(z[j]==q[k]):\n",
    "                            \n",
    "                            c2=c2+1\n",
    "                    \n",
    "                    \n",
    "        if(c1==0):\n",
    "            MAX[i].append(j)\n",
    "        if(c2==0):\n",
    "            closed[i].append(j)"
   ]
  },
  {
   "cell_type": "code",
   "execution_count": 25,
   "metadata": {},
   "outputs": [
    {
     "data": {
      "text/plain": [
       "{1: ['A', 'C', 'D', 'E'],\n",
       " 2: ['AE', 'CE', 'DE'],\n",
       " 4: [],\n",
       " 3: ['ACE', 'ADE', 'CDE'],\n",
       " 5: []}"
      ]
     },
     "execution_count": 25,
     "metadata": {},
     "output_type": "execute_result"
    }
   ],
   "source": [
    "closed"
   ]
  },
  {
   "cell_type": "code",
   "execution_count": 23,
   "metadata": {},
   "outputs": [
    {
     "data": {
      "text/plain": [
       "{1: [], 2: [], 4: [], 3: ['ACE', 'ADE', 'CDE'], 5: []}"
      ]
     },
     "execution_count": 23,
     "metadata": {},
     "output_type": "execute_result"
    }
   ],
   "source": [
    "MAX"
   ]
  },
  {
   "cell_type": "code",
   "execution_count": null,
   "metadata": {},
   "outputs": [],
   "source": []
  }
 ],
 "metadata": {
  "kernelspec": {
   "display_name": "Python 3",
   "language": "python",
   "name": "python3"
  },
  "language_info": {
   "codemirror_mode": {
    "name": "ipython",
    "version": 3
   },
   "file_extension": ".py",
   "mimetype": "text/x-python",
   "name": "python",
   "nbconvert_exporter": "python",
   "pygments_lexer": "ipython3",
   "version": "3.7.0"
  }
 },
 "nbformat": 4,
 "nbformat_minor": 2
}
